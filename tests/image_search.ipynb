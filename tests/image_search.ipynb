{
 "cells": [
  {
   "cell_type": "code",
   "execution_count": 66,
   "metadata": {},
   "outputs": [],
   "source": [
    "%load_ext autoreload\n",
    "%autoreload 2\n",
    "import os\n",
    "from dotenv import load_dotenv\n",
    "load_dotenv(\"/Users/gkreder/bioimageio-chatbot/.vscode/.env\")\n",
    "from bioimageio_chatbot.chatbot import create_customer_service, QuestionWithHistory, UserProfile\n",
    "from schema_agents.schema import Message\n",
    "import asyncio\n",
    "import yaml\n",
    "import pytest\n",
    "from tqdm.auto import tqdm\n",
    "from langchain.vectorstores import FAISS\n",
    "from langchain.embeddings.openai import OpenAIEmbeddings\n",
    "from bioimageio_chatbot.knowledge_base import create_vector_knowledge_base\n",
    "from bioimageio_chatbot.chatbot import load_model_info\n",
    "from bioimageio_chatbot.image_processor import ImageProcessor\n",
    "import requests\n",
    "import re\n",
    "import sys\n",
    "import numpy as np"
   ]
  },
  {
   "cell_type": "code",
   "execution_count": 20,
   "metadata": {},
   "outputs": [],
   "source": [
    "from bioimageio_chatbot.utils import get_manifest, download_file"
   ]
  },
  {
   "cell_type": "code",
   "execution_count": 96,
   "metadata": {},
   "outputs": [
    {
     "name": "stderr",
     "output_type": "stream",
     "text": [
      "100%|██████████| 141/141 [03:10<00:00,  1.35s/it]\n"
     ]
    }
   ],
   "source": [
    "\n",
    "models = load_model_info()\n",
    "db_path = '/Users/gkreder/Downloads/image_db'\n",
    "yaml_dir = os.path.join(db_path, 'rdf_sources')\n",
    "input_images_dir = os.path.join(db_path, \"input_images\")\n",
    "embeddings_dir = os.path.join(db_path, \"embeddings\")\n",
    "for d in [yaml_dir, input_images_dir, embeddings_dir]:\n",
    "    os.makedirs(d, exist_ok=True)\n",
    "\n",
    "all_metadata = []\n",
    "all_embeddings = []\n",
    "image_embedder = ImageProcessor()\n",
    "for i_m, m in enumerate(tqdm(models)):\n",
    "    response = requests.get(m['rdf_source'])\n",
    "    if response.status_code == 200:\n",
    "        rdf_source_content = response.content.decode('utf-8')\n",
    "        rdf_dict = yaml.safe_load(rdf_source_content)\n",
    "        try:\n",
    "            nickname = rdf_dict['config']['bioimageio']['nickname']\n",
    "            test_inputs = rdf_dict['test_inputs']\n",
    "            input_axes = rdf_dict['inputs'][0]['axes']\n",
    "        except:\n",
    "            continue\n",
    "        with open(os.path.join(yaml_dir, f\"{nickname}.yaml\"), 'w') as f:\n",
    "            f.write(rdf_source_content)\n",
    "        mislabeled_axes = {'impartial-shark' : 'yx'}\n",
    "        if nickname in mislabeled_axes:\n",
    "            input_axes = mislabeled_axes[nickname]\n",
    "        for i_ti, ti in enumerate(test_inputs):\n",
    "            if \"input_test_time_for\" in ti: # nice-peacock\n",
    "                continue\n",
    "            response = requests.get(ti)\n",
    "            if response.status_code == 200:\n",
    "                input_image_file = os.path.join(input_images_dir, f\"{nickname}.npy\")\n",
    "                with open(input_image_file, 'wb') as file:\n",
    "                    file.write(response.content)\n",
    "            embedding = image_embedder.embed_image(input_image_file, input_axes)\n",
    "            all_metadata.append(yaml_dict)\n",
    "            all_embeddings.append(embedding)\n",
    "\n",
    "        # embedding = get_embedding(data_file, vgg16_model, vgg16_preprocess)\n",
    "        # all_embeddings.append(embedding)\n",
    "        # all_metadata.append(yaml_dict)\n",
    "# models = [m for m in models if 'nickname' in m]\n",
    "# rdf_sources = [m['rdf_source'] for m in model_info]\n",
    "# nicknames = [m['nickname'] for m in model_info]\n"
   ]
  },
  {
   "cell_type": "code",
   "execution_count": null,
   "metadata": {},
   "outputs": [],
   "source": []
  }
 ],
 "metadata": {
  "kernelspec": {
   "display_name": "novel-designer",
   "language": "python",
   "name": "python3"
  },
  "language_info": {
   "codemirror_mode": {
    "name": "ipython",
    "version": 3
   },
   "file_extension": ".py",
   "mimetype": "text/x-python",
   "name": "python",
   "nbconvert_exporter": "python",
   "pygments_lexer": "ipython3",
   "version": "3.10.13"
  }
 },
 "nbformat": 4,
 "nbformat_minor": 2
}
